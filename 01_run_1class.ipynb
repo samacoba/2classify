{
 "cells": [
  {
   "cell_type": "code",
   "execution_count": null,
   "metadata": {},
   "outputs": [],
   "source": [
    "#１クラス検出用のメイン関数読み込み\n",
    "%run -i e_action_1c.py"
   ]
  },
  {
   "cell_type": "code",
   "execution_count": null,
   "metadata": {},
   "outputs": [],
   "source": [
    "#ナット100個の画像とランダムガウス画像の表示\n",
    "DataA = {'x': load_img('img/nut100_0.png')}\n",
    "DataB = {'x': get_rand_core(N_pic=10, p_num = 100,ch =3)}\n",
    "Bv = get_bokeh_view(imgs = [DataA['x'][0], DataB['x'][0]], plot_w =512,plot_h = 512)"
   ]
  },
  {
   "cell_type": "code",
   "execution_count": null,
   "metadata": {},
   "outputs": [],
   "source": [
    "#モデルをセット\n",
    "run_set_model()\n",
    "#学習開始\n",
    "run_train(N_iteration = 2000,test_interval = 100)"
   ]
  },
  {
   "cell_type": "code",
   "execution_count": null,
   "metadata": {},
   "outputs": [],
   "source": []
  }
 ],
 "metadata": {
  "anaconda-cloud": {},
  "kernelspec": {
   "display_name": "myenv",
   "language": "python",
   "name": "myenv"
  },
  "language_info": {
   "codemirror_mode": {
    "name": "ipython",
    "version": 3
   },
   "file_extension": ".py",
   "mimetype": "text/x-python",
   "name": "python",
   "nbconvert_exporter": "python",
   "pygments_lexer": "ipython3",
   "version": "3.7.4"
  }
 },
 "nbformat": 4,
 "nbformat_minor": 2
}
