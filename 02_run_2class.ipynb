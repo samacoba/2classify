{
 "cells": [
  {
   "cell_type": "code",
   "execution_count": null,
   "metadata": {},
   "outputs": [],
   "source": [
    "#２クラス検出用のメイン関数読み込み\n",
    "%run -i e_action_2c.py"
   ]
  },
  {
   "cell_type": "code",
   "execution_count": null,
   "metadata": {},
   "outputs": [],
   "source": [
    "#ナット50個／ワッシャ50個の画像とランダムガウス画像の表示\n",
    "DataA = {'x': load_img('img/nut_washer_50_0.png')}\n",
    "DataB = {'x': get_rand_core_6ch(N_pic=10, p_num1 = 50 ,p_num2 =50)}\n",
    "Bv = get_bokeh_view(imgs = [DataA['x'][0], DataB['x'][0][0:3], DataB['x'][0][3:6]], plot_w =512, plot_h = 512)"
   ]
  },
  {
   "cell_type": "code",
   "execution_count": null,
   "metadata": {},
   "outputs": [],
   "source": [
    "#モデルをセット\n",
    "run_set_model()\n",
    "#学習開始（成功確率15%程度）\n",
    "run_train(N_iteration = 1000)"
   ]
  },
  {
   "cell_type": "code",
   "execution_count": null,
   "metadata": {},
   "outputs": [],
   "source": []
  },
  {
   "cell_type": "code",
   "execution_count": null,
   "metadata": {},
   "outputs": [],
   "source": [
    "#メッシュ1pix/2pixの画像とランダムガウス画像の表示\n",
    "DataA = {'x': get_rand_grid_ball(p_num = 50)}\n",
    "DataB = {'x': get_rand_core_6ch(N_pic=10, p_num1 = 50 ,p_num2 =50)}\n",
    "Bv = get_bokeh_view(imgs = [DataA['x'][0], DataB['x'][0][0:3], DataB['x'][0][3:6]], plot_w =512, plot_h = 512)"
   ]
  },
  {
   "cell_type": "code",
   "execution_count": null,
   "metadata": {},
   "outputs": [],
   "source": [
    "#モデルをセット\n",
    "run_set_model()\n",
    "#学習開始（成功確率40%程度）\n",
    "run_train(N_iteration = 1000)"
   ]
  },
  {
   "cell_type": "code",
   "execution_count": null,
   "metadata": {},
   "outputs": [],
   "source": []
  }
 ],
 "metadata": {
  "anaconda-cloud": {},
  "kernelspec": {
   "display_name": "Python 3",
   "language": "python",
   "name": "python3"
  },
  "language_info": {
   "codemirror_mode": {
    "name": "ipython",
    "version": 3
   },
   "file_extension": ".py",
   "mimetype": "text/x-python",
   "name": "python",
   "nbconvert_exporter": "python",
   "pygments_lexer": "ipython3",
   "version": "3.7.4"
  }
 },
 "nbformat": 4,
 "nbformat_minor": 2
}
